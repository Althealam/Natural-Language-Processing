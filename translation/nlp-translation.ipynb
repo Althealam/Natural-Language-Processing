{
 "cells": [
  {
   "cell_type": "code",
   "execution_count": null,
   "metadata": {},
   "outputs": [],
   "source": []
  },
  {
   "cell_type": "markdown",
   "metadata": {},
   "source": [
    "### Transformers用于Translation的任务\n",
    "Transformers库使用预训练的翻译模型（如BerMarianMET和MBart等）来完成翻译任务，这些任务基于自回归方式，逐词或者逐句"
   ]
  }
 ],
 "metadata": {
  "language_info": {
   "name": "python"
  }
 },
 "nbformat": 4,
 "nbformat_minor": 2
}
